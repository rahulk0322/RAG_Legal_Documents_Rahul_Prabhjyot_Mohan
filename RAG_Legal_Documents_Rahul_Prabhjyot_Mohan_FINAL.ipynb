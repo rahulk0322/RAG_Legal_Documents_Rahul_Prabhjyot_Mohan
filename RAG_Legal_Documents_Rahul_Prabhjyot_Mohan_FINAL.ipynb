{
 "cells": [
  {
   "cell_type": "markdown",
   "id": "lf5lYawIw8tE",
   "metadata": {
    "id": "lf5lYawIw8tE"
   },
   "source": [
    "# **Extracting Information from Legal Documents Using RAG**"
   ]
  },
  {
   "cell_type": "markdown",
   "id": "NY1InIbkw80B",
   "metadata": {
    "id": "NY1InIbkw80B"
   },
   "source": [
    "## **Objective**"
   ]
  },
  {
   "cell_type": "markdown",
   "id": "3403a4b5",
   "metadata": {
    "id": "3403a4b5"
   },
   "source": [
    "The main objective of this assignment is to process and analyse a collection text files containing legal agreements (e.g., NDAs) to prepare them for implementing a **Retrieval-Augmented Generation (RAG)** system. This involves:\n",
    "\n",
    "* Understand the Cleaned Data : Gain a comprehensive understanding of the structure, content, and context of the cleaned dataset.\n",
    "* Perform Exploratory Analysis : Conduct bivariate and multivariate analyses to uncover relationships and trends within the cleaned data.\n",
    "* Create Visualisations : Develop meaningful visualisations to support the analysis and make findings interpretable.\n",
    "* Derive Insights and Conclusions : Extract valuable insights from the cleaned data and provide clear, actionable conclusions.\n",
    "* Document the Process : Provide a detailed description of the data, its attributes, and the steps taken during the analysis for reproducibility and clarity.\n",
    "\n",
    "The ultimate goal is to transform the raw text data into a clean, structured, and analysable format that can be effectively used to build and train a RAG system for tasks like information retrieval, question-answering, and knowledge extraction related to legal agreements."
   ]
  },
  {
   "cell_type": "markdown",
   "id": "3TTEcbb5hIM-",
   "metadata": {
    "id": "3TTEcbb5hIM-"
   },
   "source": [
    "### **Business Value**  \n"
   ]
  },
  {
   "cell_type": "markdown",
   "id": "ZsfkEL2CgljF",
   "metadata": {
    "id": "ZsfkEL2CgljF"
   },
   "source": [
    "The project aims to leverage RAG to enhance legal document processing for businesses, law firms, and regulatory bodies. The key business objectives include:\n",
    "\n",
    "* Faster Legal Research: <br> Reduce the time lawyers and compliance officers spend searching for relevant case laws, precedents, statutes, or contract clauses.\n",
    "* Improved Contract Analysis: <br> Automatically extract key terms, obligations, and risks from lengthy contracts.\n",
    "* Regulatory Compliance Monitoring: <br> Help businesses stay updated with legal and regulatory changes by retrieving relevant legal updates.\n",
    "* Enhanced Decision-Making: <br> Provide accurate and context-aware legal insights to assist in risk assessment and legal strategy.\n",
    "\n",
    "\n",
    "**Use Cases**\n",
    "* Legal Chatbots\n",
    "* Contract Review Automation\n",
    "* Tracking Regulatory Changes and Compliance Monitoring\n",
    "* Case Law Analysis of past judgments\n",
    "* Due Diligence & Risk Assessment"
   ]
  },
  {
   "cell_type": "markdown",
   "id": "rDp_EWxVOhUu",
   "metadata": {
    "id": "rDp_EWxVOhUu"
   },
   "source": [
    "## **1. Data Loading, Preparation and Analysis** <font color=red> [20 marks] </font><br>"
   ]
  },
  {
   "cell_type": "markdown",
   "id": "JZGTCfyUxalZ",
   "metadata": {
    "id": "JZGTCfyUxalZ"
   },
   "source": [
    "### **1.1 Data Understanding**"
   ]
  },
  {
   "cell_type": "markdown",
   "id": "ok6sSYNAiG8V",
   "metadata": {
    "id": "ok6sSYNAiG8V"
   },
   "source": [
    "The dataset contains legal documents and contracts collected from various sources. The documents are present as text files (`.txt`) in the *corpus* folder.\n",
    "\n",
    "There are four types of documents in the *courpus* folder, divided into four subfolders.\n",
    "- `contractnli`: contains various non-disclosure and confidentiality agreements\n",
    "- `cuad`: contains contracts with annotated legal clauses\n",
    "- `maud`: contains various merger/acquisition contracts and agreements\n",
    "- `privacy_qa`: a question-answering dataset containing privacy policies\n",
    "\n",
    "The dataset also contains evaluation files in JSON format in the *benchmark* folder. The files contain the questions and their answers, along with sources. For each of the above four folders, there is a `json` file: `contractnli.json`, `cuad.json`, `maud.json` `privacy_qa.json`. The file structure is as follows:\n",
    "\n",
    "```\n",
    "{\n",
    "    \"tests\": [\n",
    "        {\n",
    "            \"query\": <question1>,\n",
    "            \"snippets\": [{\n",
    "                    \"file_path\": <source_file1>,\n",
    "                    \"span\": [ begin_position, end_position ],\n",
    "                    \"answer\": <relevant answer to the question 1>\n",
    "                },\n",
    "                {\n",
    "                    \"file_path\": <source_file2>,\n",
    "                    \"span\": [ begin_position, end_position ],\n",
    "                    \"answer\": <relevant answer to the question 2>\n",
    "                }, ....\n",
    "            ]\n",
    "        },\n",
    "        {\n",
    "            \"query\": <question2>,\n",
    "            \"snippets\": [{<answer context for que 2>}]\n",
    "        },\n",
    "        ... <more queries>\n",
    "    ]\n",
    "}\n",
    "```"
   ]
  },
  {
   "cell_type": "markdown",
   "id": "QJkxYL-4Wjv2",
   "metadata": {
    "id": "QJkxYL-4Wjv2"
   },
   "source": [
    "# RAG Legal Docs Assignment\n",
    "#####**Name:** Rahul Kumar, Prabhjyot Singh, and Mohan Nishantam\n",
    "**Assignment Title:** Retrieval-Augmented Generation for Legal Documents  "
   ]
  },
  {
   "cell_type": "markdown",
   "id": "S7Ac8VxvjWnw",
   "metadata": {
    "id": "S7Ac8VxvjWnw"
   },
   "source": [
    "### **1.2 Load and Preprocess the data** <font color=red> [5 marks] </font><br>"
   ]
  },
  {
   "cell_type": "markdown",
   "id": "gJ8fA4Nh3fHg",
   "metadata": {
    "id": "gJ8fA4Nh3fHg"
   },
   "source": [
    "#### Loading libraries"
   ]
  },
  {
   "cell_type": "markdown",
   "id": "zOMf-tfIiOlp",
   "metadata": {
    "id": "zOMf-tfIiOlp"
   },
   "source": [
    "#### **1.2.1** <font color=red> [3 marks] </font>\n",
    "Load all `.txt` files from the folders."
   ]
  },
  {
   "cell_type": "markdown",
   "id": "f2ea36ba",
   "metadata": {
    "id": "f2ea36ba"
   },
   "source": [
    "You can utilise document loaders from the options provided by the LangChain community.\n",
    "\n",
    "Optionally, you can also read the files manually, while ensuring proper handling of encoding issues (e.g., utf-8, latin1). In such case, also store the file content along with metadata (e.g., file name, directory path) for traceability."
   ]
  },
  {
   "cell_type": "markdown",
   "id": "Ep6nIoJ0TXJk",
   "metadata": {
    "id": "Ep6nIoJ0TXJk"
   },
   "source": []
  },
  {
   "cell_type": "code",
   "execution_count": 3,
   "id": "I9rTY8DWx2Wj",
   "metadata": {
    "colab": {
     "base_uri": "https://localhost:8080/"
    },
    "id": "I9rTY8DWx2Wj",
    "outputId": "cfbb9e68-f7e5-4c90-d78e-3d481148049b"
   },
   "outputs": [
    {
     "name": "stdout",
     "output_type": "stream",
     "text": [
      "Dataset unzipped at: /content/rag_legal\n"
     ]
    }
   ],
   "source": [
    "# Load the files as documents\n",
    "import zipfile\n",
    "import os\n",
    "\n",
    "zip_path = \"/content/rag_legal.zip\"\n",
    "extract_dir = \"/content/rag_legal\"  # this will be your root dataset folder\n",
    "\n",
    "with zipfile.ZipFile(zip_path, 'r') as zip_ref:\n",
    "    zip_ref.extractall(extract_dir)\n",
    "\n",
    "print(\"Dataset unzipped at:\", extract_dir)"
   ]
  },
  {
   "cell_type": "markdown",
   "id": "K4HYLoUjwmMs",
   "metadata": {
    "id": "K4HYLoUjwmMs"
   },
   "source": [
    "#### **1.2.2** <font color=red> [2 marks] </font>\n",
    "Preprocess the text data to remove noise and prepare it for analysis."
   ]
  },
  {
   "cell_type": "markdown",
   "id": "e9793fdf",
   "metadata": {
    "id": "e9793fdf"
   },
   "source": [
    "Remove special characters, extra whitespace, and irrelevant content such as email and telephone contact info.\n",
    "Normalise text (e.g., convert to lowercase, remove stop words).\n",
    "Handle missing or corrupted data by logging errors and skipping problematic files."
   ]
  },
  {
   "cell_type": "code",
   "execution_count": 4,
   "id": "1ec87e69",
   "metadata": {
    "colab": {
     "base_uri": "https://localhost:8080/"
    },
    "id": "1ec87e69",
    "outputId": "03878913-52ec-404d-823c-f28b10a6e45e"
   },
   "outputs": [
    {
     "name": "stdout",
     "output_type": "stream",
     "text": [
      "Loaded 698 documents\n",
      "Sample document keys: dict_keys(['text', 'file_path', 'category'])\n"
     ]
    },
    {
     "name": "stderr",
     "output_type": "stream",
     "text": [
      "[nltk_data] Downloading package stopwords to /root/nltk_data...\n",
      "[nltk_data]   Unzipping corpora/stopwords.zip.\n"
     ]
    }
   ],
   "source": [
    "# Clean and preprocess the data\n",
    "\n",
    "import glob\n",
    "import os\n",
    "\n",
    "def load_all_txt_documents(folder_path):\n",
    "    all_docs = []\n",
    "\n",
    "    # Recursively search for all .txt files\n",
    "    for file_path in glob.glob(os.path.join(folder_path, '**', '*.txt'), recursive=True):\n",
    "        try:\n",
    "            with open(file_path, 'r', encoding='utf-8', errors='ignore') as f:\n",
    "                text = f.read()\n",
    "                all_docs.append({\n",
    "                    \"text\": text,\n",
    "                    \"file_path\": file_path,\n",
    "                    \"category\": os.path.basename(os.path.dirname(file_path))\n",
    "                })\n",
    "        except Exception as e:\n",
    "            print(f\"Error reading {file_path}: {e}\")\n",
    "\n",
    "    return all_docs\n",
    "\n",
    "corpus_path = \"/content/rag_legal\"\n",
    "documents = load_all_txt_documents(corpus_path)\n",
    "\n",
    "print(f\"Loaded {len(documents)} documents\")\n",
    "print(\"Sample document keys:\", documents[0].keys() if documents else \"No documents found\")\n",
    "\n",
    "import re\n",
    "import nltk\n",
    "nltk.download('stopwords')\n",
    "from nltk.corpus import stopwords\n",
    "from langchain.schema import Document\n",
    "\n",
    "# Set of English stop words\n",
    "stop_words = set(stopwords.words('english'))\n",
    "\n",
    "# Preprocessing function\n",
    "def preprocess_text(text):\n",
    "    text = re.sub(r'\\s+', ' ', text)  # Remove extra spaces\n",
    "    text = re.sub(r'\\S+@\\S+', '', text)  # Remove emails\n",
    "    text = re.sub(r'(\\(?\\d{3}\\)?[-.\\s]?\\d{3}[-.\\s]?\\d{4})', '', text)  # Remove phone numbers\n",
    "    text = re.sub(r'[^A-Za-z0-9\\s]', '', text)  # Remove special characters\n",
    "    text = text.lower()\n",
    "    return ' '.join([word for word in text.split() if word not in stop_words])\n",
    "\n",
    "# Create LangChain Document objects with cleaned text\n",
    "docs = [\n",
    "    Document(\n",
    "        page_content=preprocess_text(doc[\"text\"]),\n",
    "        metadata={\"source\": doc[\"file_path\"], \"category\": doc[\"category\"]}\n",
    "    )\n",
    "    for doc in documents\n",
    "]\n",
    "\n"
   ]
  },
  {
   "cell_type": "markdown",
   "id": "b9e90470",
   "metadata": {
    "id": "b9e90470"
   },
   "source": [
    "### **1.3 Exploratory Data Analysis** <font color=red> [10 marks] </font><br>"
   ]
  },
  {
   "cell_type": "markdown",
   "id": "Nd1K4yhIzyPp",
   "metadata": {
    "id": "Nd1K4yhIzyPp"
   },
   "source": [
    "#### **1.3.1** <font color=red> [1 marks] </font>\n",
    "Calculate the average, maximum and minimum document length."
   ]
  },
  {
   "cell_type": "code",
   "execution_count": 5,
   "id": "tQT1UIcOHSp9",
   "metadata": {
    "colab": {
     "base_uri": "https://localhost:8080/"
    },
    "id": "tQT1UIcOHSp9",
    "outputId": "8236453a-40a7-4e58-c4f8-5e4b6c5db757"
   },
   "outputs": [
    {
     "name": "stdout",
     "output_type": "stream",
     "text": [
      "Average Length: 8975.432664756447\n",
      "Max Length: 84946\n",
      "Min Length: 142\n"
     ]
    }
   ],
   "source": [
    "# Calculate the average, maximum and minimum document length.\n",
    "from collections import Counter\n",
    "import numpy as np\n",
    "\n",
    "lengths = [len(doc.page_content.split()) for doc in docs]\n",
    "print(f\"Average Length: {np.mean(lengths)}\\nMax Length: {np.max(lengths)}\\nMin Length: {np.min(lengths)}\")"
   ]
  },
  {
   "cell_type": "code",
   "execution_count": 6,
   "id": "vKrifMlCP-O_",
   "metadata": {
    "colab": {
     "base_uri": "https://localhost:8080/",
     "height": 472
    },
    "id": "vKrifMlCP-O_",
    "outputId": "ce88044d-2fbc-492c-b1e5-1c4e390b7728"
   },
   "outputs": [
    {
     "data": {
      "image/png": "[encoded data removed]",
      "text/plain": [
       "<Figure size 640x480 with 1 Axes>"
      ]
     },
     "metadata": {},
     "output_type": "display_data"
    }
   ],
   "source": [
    "#Understand variability in document sizes.\n",
    "\n",
    "import matplotlib.pyplot as plt\n",
    "\n",
    "doc_lengths = [len(doc['text'].split()) for doc in documents]  # adjust based on your data\n",
    "plt.hist(doc_lengths, bins=50, color='skyblue', edgecolor='black')\n",
    "plt.title('Document Length Distribution')\n",
    "plt.xlabel('Number of Words')\n",
    "plt.ylabel('Number of Documents')\n",
    "plt.grid(True)\n",
    "plt.show()\n"
   ]
  },
  {
   "cell_type": "markdown",
   "id": "18xQu__O0wLv",
   "metadata": {
    "id": "18xQu__O0wLv"
   },
   "source": [
    "#### **1.3.2** <font color=red> [4 marks] </font>\n",
    "Analyse the frequency of occurrence of words and find the most and least occurring words."
   ]
  },
  {
   "cell_type": "markdown",
   "id": "IQ_i5YfFH2dg",
   "metadata": {
    "id": "IQ_i5YfFH2dg"
   },
   "source": [
    "Find the 20 most common and least common words in the text. Ignore stop words such as articles and prepositions."
   ]
  },
  {
   "cell_type": "code",
   "execution_count": 7,
   "id": "Q8eiDTy2Ic8z",
   "metadata": {
    "colab": {
     "base_uri": "https://localhost:8080/"
    },
    "id": "Q8eiDTy2Ic8z",
    "outputId": "78f5beed-f92d-430a-a310-a742e97ec74e"
   },
   "outputs": [
    {
     "name": "stdout",
     "output_type": "stream",
     "text": [
      "20 Most Common Words: [('company', 148170), ('shall', 107995), ('agreement', 104559), ('section', 75344), ('parent', 58009), ('party', 49657), ('date', 39294), ('time', 35251), ('material', 34208), ('merger', 33843), ('subsidiaries', 33317), ('applicable', 31369), ('including', 29398), ('respect', 28848), ('may', 28069), ('stock', 26651), ('information', 25681), ('parties', 24610), ('b', 23935), ('business', 23497)]\n",
      "20 Least Common Words: [('122aib', 1), ('122di', 1), ('122ai', 1), ('122aiia', 1), ('122e', 1), ('123ciia2', 1), ('123ciia3', 1), ('123ciib1', 1), ('123ciib2', 1), ('123ciib3', 1), ('123ciii', 1), ('trialbytrial', 1), ('perdetail', 1), ('123cvide', 1), ('123cvi', 1), ('122aiii', 1), ('123di', 1), ('122aiib', 1), ('takings', 1), ('exhibitsancillary', 1)]\n"
     ]
    }
   ],
   "source": [
    "# Find frequency of occurence of words\n",
    "from collections import Counter\n",
    "import numpy as np\n",
    "\n",
    "all_words = ' '.join(doc.page_content for doc in docs).split()\n",
    "counter = Counter(all_words)\n",
    "\n",
    "print(\"20 Most Common Words:\", counter.most_common(20))\n",
    "print(\"20 Least Common Words:\", counter.most_common()[-20:])"
   ]
  },
  {
   "cell_type": "markdown",
   "id": "xlF55RNjz9pQ",
   "metadata": {
    "id": "xlF55RNjz9pQ"
   },
   "source": [
    "#### **1.3.3** <font color=red> [4 marks] </font>\n",
    "Analyse the similarity of different documents to each other based on TF-IDF vectors."
   ]
  },
  {
   "cell_type": "markdown",
   "id": "jciCNMelOGPJ",
   "metadata": {
    "id": "jciCNMelOGPJ"
   },
   "source": [
    "Transform some documents to TF-IDF vectors and calculate their similarity matrix using a suitable distance function. If contracts contain duplicate or highly similar clauses, similarity calculation can help detect them.\n",
    "\n",
    "Identify for the first 10 documents and then for 10 random documents. What do you observe?"
   ]
  },
  {
   "cell_type": "code",
   "execution_count": 8,
   "id": "M-_SrvDcMnKi",
   "metadata": {
    "colab": {
     "base_uri": "https://localhost:8080/"
    },
    "id": "M-_SrvDcMnKi",
    "outputId": "94eaf6d9-3e2e-478c-ce42-4ece69da6968"
   },
   "outputs": [
    {
     "name": "stdout",
     "output_type": "stream",
     "text": [
      "[[1.         0.29298252 0.30119917 0.19987952 0.27135081 0.19520498\n",
      "  0.17481365 0.10513746 0.05580197 0.06503493]\n",
      " [0.29298252 1.         0.40471471 0.32220309 0.42714379 0.28313062\n",
      "  0.31475707 0.13116893 0.05755453 0.09096209]\n",
      " [0.30119917 0.40471471 1.         0.35764548 0.52624268 0.31982757\n",
      "  0.24753857 0.12046101 0.06402482 0.07828118]\n",
      " [0.19987952 0.32220309 0.35764548 1.         0.34305073 0.20130963\n",
      "  0.19943237 0.06875807 0.03090197 0.04641382]\n",
      " [0.27135081 0.42714379 0.52624268 0.34305073 1.         0.30138468\n",
      "  0.26771973 0.10962853 0.05489759 0.07350297]\n",
      " [0.19520498 0.28313062 0.31982757 0.20130963 0.30138468 1.\n",
      "  0.17732837 0.08294927 0.03999159 0.05439024]\n",
      " [0.17481365 0.31475707 0.24753857 0.19943237 0.26771973 0.17732837\n",
      "  1.         0.06451441 0.03113781 0.04363283]\n",
      " [0.10513746 0.13116893 0.12046101 0.06875807 0.10962853 0.08294927\n",
      "  0.06451441 1.         0.11276923 0.11385125]\n",
      " [0.05580197 0.05755453 0.06402482 0.03090197 0.05489759 0.03999159\n",
      "  0.03113781 0.11276923 1.         0.05786889]\n",
      " [0.06503493 0.09096209 0.07828118 0.04641382 0.07350297 0.05439024\n",
      "  0.04363283 0.11385125 0.05786889 1.        ]]\n"
     ]
    }
   ],
   "source": [
    "# Transform the page contents of documents\n",
    "\n",
    "from sklearn.feature_extraction.text import TfidfVectorizer\n",
    "from sklearn.metrics.pairwise import cosine_similarity\n",
    "import random\n",
    "\n",
    "contents = [doc.page_content for doc in docs]\n",
    "vectorizer = TfidfVectorizer()\n",
    "tfidf_matrix = vectorizer.fit_transform(contents)\n",
    "\n",
    "# Compute similarity scores\n",
    "similarity_matrix_first10 = cosine_similarity(tfidf_matrix[:10])\n",
    "print(similarity_matrix_first10)"
   ]
  },
  {
   "cell_type": "code",
   "execution_count": 9,
   "id": "pd99eXtnK2DU",
   "metadata": {
    "id": "pd99eXtnK2DU"
   },
   "outputs": [],
   "source": [
    "# create a list of 10 random integers\n",
    "# Random 10 docs\n",
    "random_indices = random.sample(range(len(contents)), 10)"
   ]
  },
  {
   "cell_type": "code",
   "execution_count": 10,
   "id": "t31ngfZTJimS",
   "metadata": {
    "colab": {
     "base_uri": "https://localhost:8080/"
    },
    "id": "t31ngfZTJimS",
    "outputId": "a23a9806-fba4-44b2-f002-b698fd745169"
   },
   "outputs": [
    {
     "name": "stdout",
     "output_type": "stream",
     "text": [
      "[[1.         0.10630181 0.0493416  0.0192108  0.11514181 0.17246794\n",
      "  0.05452899 0.04036858 0.05095889 0.14361758]\n",
      " [0.10630181 1.         0.05205131 0.02520945 0.1859052  0.28522565\n",
      "  0.08437176 0.05734101 0.06799792 0.24483003]\n",
      " [0.0493416  0.05205131 1.         0.01460216 0.05091363 0.06719116\n",
      "  0.05629867 0.03439131 0.04082466 0.06997503]\n",
      " [0.0192108  0.02520945 0.01460216 1.         0.02454433 0.02856196\n",
      "  0.02111089 0.02110882 0.01643298 0.03292359]\n",
      " [0.11514181 0.1859052  0.05091363 0.02454433 1.         0.31361001\n",
      "  0.08415014 0.05121503 0.069667   0.26216195]\n",
      " [0.17246794 0.28522565 0.06719116 0.02856196 0.31361001 1.\n",
      "  0.10169741 0.06258909 0.10452611 0.76888034]\n",
      " [0.05452899 0.08437176 0.05629867 0.02111089 0.08415014 0.10169741\n",
      "  1.         0.04102268 0.05831562 0.11136324]\n",
      " [0.04036858 0.05734101 0.03439131 0.02110882 0.05121503 0.06258909\n",
      "  0.04102268 1.         0.0375906  0.06745218]\n",
      " [0.05095889 0.06799792 0.04082466 0.01643298 0.069667   0.10452611\n",
      "  0.05831562 0.0375906  1.         0.11361392]\n",
      " [0.14361758 0.24483003 0.06997503 0.03292359 0.26216195 0.76888034\n",
      "  0.11136324 0.06745218 0.11361392 1.        ]]\n"
     ]
    }
   ],
   "source": [
    "# Compute similarity scores for 10 random documents\n",
    "similarity_matrix_random10 = cosine_similarity(tfidf_matrix[random_indices])\n",
    "print(similarity_matrix_random10)"
   ]
  },
  {
   "cell_type": "code",
   "execution_count": 11,
   "id": "x1k3nxOYQNVB",
   "metadata": {
    "colab": {
     "base_uri": "https://localhost:8080/",
     "height": 472
    },
    "id": "x1k3nxOYQNVB",
    "outputId": "958417ca-1c34-4b9e-b638-649993befc41"
   },
   "outputs": [
    {
     "data": {
      "image/png": "[encoded data removed]",
      "text/plain": [
       "<Figure size 640x480 with 2 Axes>"
      ]
     },
     "metadata": {},
     "output_type": "display_data"
    }
   ],
   "source": [
    "#Visualize how similar the documents are within a small sample (random 10).\n",
    "\n",
    "import seaborn as sns\n",
    "\n",
    "sns.heatmap(similarity_matrix_random10, cmap='Blues', annot=False)\n",
    "plt.title(\"Cosine Similarity - Random 10 Documents\")\n",
    "plt.xlabel(\"Doc Index\")\n",
    "plt.ylabel(\"Doc Index\")\n",
    "plt.show()\n",
    "\n",
    "#Inference: The 10 random documents sampled are likely from different categories (contracts, privacy policies, etc.) and hence do not overlap much in semantic content."
   ]
  },
  {
   "cell_type": "markdown",
   "id": "3cfd0f53",
   "metadata": {
    "id": "3cfd0f53"
   },
   "source": [
    "### **1.4 Document Creation and Chunking** <font color=red> [5 marks] </font><br>"
   ]
  },
  {
   "cell_type": "markdown",
   "id": "pCw3NzcE3waS",
   "metadata": {
    "id": "pCw3NzcE3waS"
   },
   "source": [
    "#### **1.4.1** <font color=red> [5 marks] </font>\n",
    "Perform appropriate steps to split the text into chunks."
   ]
  },
  {
   "cell_type": "code",
   "execution_count": 12,
   "id": "TjZ6yf9r2p1F",
   "metadata": {
    "id": "TjZ6yf9r2p1F"
   },
   "outputs": [],
   "source": [
    "# Process files and generate chunks\n",
    "from langchain.text_splitter import RecursiveCharacterTextSplitter\n",
    "\n",
    "splitter = RecursiveCharacterTextSplitter(chunk_size=800, chunk_overlap=100)\n",
    "chunks = splitter.split_documents(docs)"
   ]
  },
  {
   "cell_type": "markdown",
   "id": "LeAeTqpZ-DYw",
   "metadata": {
    "id": "LeAeTqpZ-DYw"
   },
   "source": [
    "## **2. Vector Database and RAG Chain Creation** <font color=red> [15 marks] </font><br>"
   ]
  },
  {
   "cell_type": "markdown",
   "id": "YoH_Ac6K6aQZ",
   "metadata": {
    "id": "YoH_Ac6K6aQZ"
   },
   "source": [
    "### **2.1 Vector Embedding and Vector Database Creation** <font color=red> [7 marks] </font><br>"
   ]
  },
  {
   "cell_type": "markdown",
   "id": "bBfj5ycC59lU",
   "metadata": {
    "id": "bBfj5ycC59lU"
   },
   "source": [
    "#### **2.1.1** <font color=red> [2 marks] </font>\n",
    "Initialise an embedding function for loading the embeddings into the vector database."
   ]
  },
  {
   "cell_type": "markdown",
   "id": "v-QeR5N_7jiw",
   "metadata": {
    "id": "v-QeR5N_7jiw"
   },
   "source": [
    "Initialise a function to transform the text to vectors using OPENAI Embeddings module. You can also use this function to transform during vector DB creation itself."
   ]
  },
  {
   "cell_type": "code",
   "execution_count": 13,
   "id": "CsSapkYCZeAQ",
   "metadata": {
    "id": "CsSapkYCZeAQ"
   },
   "outputs": [],
   "source": []
  },
  {
   "cell_type": "markdown",
   "id": "WTkTIerj5-KI",
   "metadata": {
    "id": "WTkTIerj5-KI"
   },
   "source": [
    "#### **2.1.2** <font color=red> [5 marks] </font>\n",
    "Load the embeddings to a vector database."
   ]
  },
  {
   "cell_type": "markdown",
   "id": "o6rEbd7477R8",
   "metadata": {
    "id": "o6rEbd7477R8"
   },
   "source": [
    "Create a directory for vector database and enter embedding data to the vector DB."
   ]
  },
  {
   "cell_type": "code",
   "execution_count": 19,
   "id": "IaqfjQJf2v8Y",
   "metadata": {
    "id": "IaqfjQJf2v8Y"
   },
   "outputs": [],
   "source": [
    "# Add Chunks to vector DB\n",
    "vector_db = FAISS.from_documents(chunks, embedding_function)\n",
    "\n",
    "vector_db.save_local(\"/content/vector_db/\")\n"
   ]
  },
  {
   "cell_type": "markdown",
   "id": "978619ac",
   "metadata": {
    "id": "978619ac"
   },
   "source": [
    "### **2.2 Create RAG Chain** <font color=red> [8 marks] </font><br>"
   ]
  },
  {
   "cell_type": "markdown",
   "id": "Rczna1Xy_1bq",
   "metadata": {
    "id": "Rczna1Xy_1bq"
   },
   "source": [
    "#### **2.2.1** <font color=red> [5 marks] </font>\n",
    "Create a RAG chain."
   ]
  },
  {
   "cell_type": "markdown",
   "id": "6PkgzeTIElfy",
   "metadata": {
    "id": "6PkgzeTIElfy"
   },
   "source": [
    "#### **2.2.2** <font color=red> [3 marks] </font>\n",
    "Create a function to generate answer for asked questions."
   ]
  },
  {
   "cell_type": "markdown",
   "id": "W8AMtr94FZxR",
   "metadata": {
    "id": "W8AMtr94FZxR"
   },
   "source": [
    "Use the RAG chain to generate answer for a question and provide source documents"
   ]
  },
  {
   "cell_type": "code",
   "execution_count": 21,
   "id": "b9TQdz5uFzlr",
   "metadata": {
    "colab": {
     "base_uri": "https://localhost:8080/"
    },
    "id": "b9TQdz5uFzlr",
    "outputId": "29f3ded8-9a88-4356-919e-8c698e1c0a87"
   },
   "outputs": [
    {
     "name": "stderr",
     "output_type": "stream",
     "text": [
      "/tmp/ipython-input-21-3669246326.py:3: LangChainDeprecationWarning: The method `Chain.__call__` was deprecated in langchain 0.1.0 and will be removed in 1.0. Use :meth:`~invoke` instead.\n",
      "  response = qa_chain(\"Does the NDA grant rights to confidential info?\")\n"
     ]
    },
    {
     "name": "stdout",
     "output_type": "stream",
     "text": [
      "{'query': 'Does the NDA grant rights to confidential info?', 'result': 'The NDA does not grant rights to confidential information.', 'source_documents': [Document(id='8deab049-fd37-4a81-b628-5a2e3ee3d622', metadata={'source': '/content/rag_legal/rag_legal/corpus/contractnli/NDA-M5-Systems.txt', 'category': 'contractnli'}, page_content='nondisclosure agreement nda agreement made discloser m5 computer security recipient 1 purpose discloser agreed make available recipient certain confidential information defined discloser purpose performing information security assessment discloser additionally performing penetration testing activities recipient may discover confidential information discloser 2 definition confidential information means information technical data knowhow including limited relates research product plans products services customers markets software developments inventions processes designs drawings engineering hardware configuration information marketing finances confidential information designated writing confidential proprietary given orally confirmed promptly writing disclosed confidential proprietary'), Document(id='c9be1a1e-d1fa-4999-ac5e-6782ca64bc3d', metadata={'source': '/content/rag_legal/rag_legal/corpus/contractnli/QuickBooks-NDA-template.txt', 'category': 'contractnli'}, page_content='information anyone including employees however recipient confidential information may disclose information certain employees required information carry contemplated business employees confidential information disclosed sign nondisclosure agreement content substantially similar agreement notify writing names persons access confidential information party agrees take reasonable steps protect secrecy avoid disclosure use confidential information order prevent falling public domain possession unauthorised persons agrees notify writing misuse misappropriation confidential information may come attention 4 ownership confidential information shall remain exclusive property disclosing party recipient shall right use confidential information except provided herein patent copyright trademark'), Document(id='028057df-2a25-4685-90c3-027dbd803fbf', metadata={'source': '/content/rag_legal/rag_legal/corpus/cuad/ParatekPharmaceuticalsInc_20170505_10-KA_EX-10.29_10323872_EX-10.29_Outsourcing Agreement.txt', 'category': 'cuad'}, page_content='agreement granted rights party confidential page 27 49 source paratek pharmaceuticals inc 10ka 552017 exhibit redacted subject confidential treatment request redacted material marked filed separately securities exchange commission two pages material omitted redacted material marked 113 grant license customer term customer hereby grants supplier paidup royaltyfree nonexclusive license without right sublicense customers confidential information customer technology reasonably necessary manufacture supply customer product hereunder purposes parties agree license grant contained section 113 personal supplier shall exercised supplier supplier agrees make use customers confidential information customer technology accordance license disclose confidential information customer technology third')]}\n"
     ]
    }
   ],
   "source": [
    "# Create a function for question answering\n",
    "# Example\n",
    "response = qa_chain(\"Does the NDA grant rights to confidential info?\")\n",
    "print(response)\n"
   ]
  },
  {
   "cell_type": "code",
   "execution_count": 22,
   "id": "pSgcP19iYgjv",
   "metadata": {
    "id": "pSgcP19iYgjv"
   },
   "outputs": [],
   "source": [
    "# Example question\n",
    "question =\"Consider the Non-Disclosure Agreement between CopAcc and ToP Mentors; Does the document indicate that the Agreement does not grant the Receiving Party any rights to the Confidential Information?\"\n"
   ]
  },
  {
   "cell_type": "markdown",
   "id": "fMmX8OrcN05D",
   "metadata": {
    "id": "fMmX8OrcN05D"
   },
   "source": [
    "## **3. RAG Evaluation** <font color=red> [10 marks] </font><br>"
   ]
  },
  {
   "cell_type": "markdown",
   "id": "b1ddfed9",
   "metadata": {
    "id": "b1ddfed9"
   },
   "source": [
    "### **3.1 Evaluation and Inference** <font color=red> [10 marks] </font><br>"
   ]
  },
  {
   "cell_type": "markdown",
   "id": "Z9xy_GduS9Yk",
   "metadata": {
    "id": "Z9xy_GduS9Yk"
   },
   "source": [
    "#### **3.1.1** <font color=red> [2 marks] </font>\n",
    "Extract all the questions and all the answers/ground truths from the benchmark files."
   ]
  },
  {
   "cell_type": "markdown",
   "id": "V397RqkRfjSP",
   "metadata": {
    "id": "V397RqkRfjSP"
   },
   "source": [
    "Create a questions set and an answers set containing all the questions and answers from the benchmark files to run evaluations."
   ]
  },
  {
   "cell_type": "code",
   "execution_count": 23,
   "id": "bF_KZXb1c-G5",
   "metadata": {
    "id": "bF_KZXb1c-G5"
   },
   "outputs": [],
   "source": [
    "# Create a question set by taking all the questions from the benchmark data\n",
    "# Also create a ground truth/answer set\n",
    "import os\n",
    "\n",
    "import json\n",
    "\n",
    "def extract_benchmark_data(json_path):\n",
    "    with open(json_path, 'r') as f:\n",
    "        data = json.load(f)\n",
    "\n",
    "    queries = []\n",
    "    ground_truths = []\n",
    "    for test in data['tests']:\n",
    "        queries.append(test['query'])\n",
    "        answers = [s['answer'] for s in test['snippets']]\n",
    "        ground_truths.append(answers)\n",
    "    return queries, ground_truths\n",
    "\n",
    "# Example usage\n",
    "benchmark_path = \"/content/rag_legal/rag_legal/benchmarks/contractnli.json\"\n",
    "queries, truths = extract_benchmark_data(benchmark_path)\n",
    "\n"
   ]
  },
  {
   "cell_type": "markdown",
   "id": "81VscxuGTHhC",
   "metadata": {
    "id": "81VscxuGTHhC"
   },
   "source": [
    "#### **3.1.2** <font color=red> [5 marks] </font>\n",
    "Create a function to evaluate the generated answers."
   ]
  },
  {
   "cell_type": "markdown",
   "id": "qIPUg1dKTPGb",
   "metadata": {
    "id": "qIPUg1dKTPGb"
   },
   "source": [
    "Evaluate the responses on *Rouge*, *Ragas* and *Bleu* scores."
   ]
  },
  {
   "cell_type": "code",
   "execution_count": 24,
   "id": "RuoBJS5_PKmX",
   "metadata": {
    "colab": {
     "base_uri": "https://localhost:8080/",
     "height": 392,
     "referenced_widgets": [
      "b9ce09169cad450c86c3a1021328dafd",
      "9ceb39e61c474b6bb56a0e4a03e44dae",
      "c11ba16ee06c4841b14473635e0ea47e",
      "0b0e32cd1fbf47fa81bf4ade49a31eda",
      "b822413c66de4a4a8419a45184450fbd",
      "052c50eef35d490a980d6fd51d6a9eb1",
      "910253cd0d664fe8bfa998cc171e9e5d",
      "957a352f2fb44b36bd6653f18a3e7d1c",
      "b987974ec0ef49e0ae660f1f965b5f8a",
      "492ad2c5c1ae4324a50027c175a5e133",
      "f7216c5650ed407d9590247c80fd612e"
     ]
    },
    "id": "RuoBJS5_PKmX",
    "outputId": "42fcbb60-efdb-4d6b-8963-07ef233b709f"
   },
   "outputs": [
    {
     "data": {
      "application/vnd.jupyter.widget-view+json": {
       "model_id": "b9ce09169cad450c86c3a1021328dafd",
       "version_major": 2,
       "version_minor": 0
      },
      "text/plain": [
       "Evaluating:   0%|          | 0/30 [00:00<?, ?it/s]"
      ]
     },
     "metadata": {},
     "output_type": "display_data"
    },
    {
     "name": "stdout",
     "output_type": "stream",
     "text": [
      "{'RAGAS': {'answer_relevancy': 0.9355, 'faithfulness': 0.7681, 'context_recall': 0.4667}, 'Average ROUGE-L': 0.16866434741050426, 'Average BLEU': 0.007102045430065727}\n"
     ]
    },
    {
     "name": "stderr",
     "output_type": "stream",
     "text": [
      "/usr/local/lib/python3.11/dist-packages/nltk/translate/bleu_score.py:577: UserWarning: \n",
      "The hypothesis contains 0 counts of 3-gram overlaps.\n",
      "Therefore the BLEU score evaluates to 0, independently of\n",
      "how many N-gram overlaps of lower order it contains.\n",
      "Consider using lower n-gram order or use SmoothingFunction()\n",
      "  warnings.warn(_msg)\n",
      "/usr/local/lib/python3.11/dist-packages/nltk/translate/bleu_score.py:577: UserWarning: \n",
      "The hypothesis contains 0 counts of 4-gram overlaps.\n",
      "Therefore the BLEU score evaluates to 0, independently of\n",
      "how many N-gram overlaps of lower order it contains.\n",
      "Consider using lower n-gram order or use SmoothingFunction()\n",
      "  warnings.warn(_msg)\n",
      "/usr/local/lib/python3.11/dist-packages/nltk/translate/bleu_score.py:577: UserWarning: \n",
      "The hypothesis contains 0 counts of 2-gram overlaps.\n",
      "Therefore the BLEU score evaluates to 0, independently of\n",
      "how many N-gram overlaps of lower order it contains.\n",
      "Consider using lower n-gram order or use SmoothingFunction()\n",
      "  warnings.warn(_msg)\n"
     ]
    }
   ],
   "source": [
    "# RAG Evaluation Code Block\n",
    "\n",
    "from ragas.metrics import answer_relevancy, faithfulness, context_recall\n",
    "from ragas.evaluation import evaluate\n",
    "from datasets import Dataset\n",
    "from rouge_score import rouge_scorer\n",
    "from nltk.translate.bleu_score import sentence_bleu\n",
    "\n",
    "# Function to generate predictions using the QA chain\n",
    "def generate_predictions(qa_chain, questions, n=100):\n",
    "    predictions = []\n",
    "    for i in range(min(n, len(questions))):\n",
    "        response = qa_chain(questions[i])\n",
    "        predictions.append(response)\n",
    "    return predictions\n",
    "\n",
    "# Function to evaluate the RAG model\n",
    "def evaluate_rag_model(questions, predictions, ground_truths, n=10):\n",
    "    # Prepare dataset dictionary\n",
    "    data = {\n",
    "        \"question\": questions[:n],\n",
    "        \"answer\": [p[\"result\"] for p in predictions[:n]],\n",
    "        \"contexts\": [[doc.page_content for doc in p[\"source_documents\"]] for p in predictions[:n]],\n",
    "        \"reference\": [gt[0] for gt in ground_truths[:n]],\n",
    "    }\n",
    "\n",
    "    dataset = Dataset.from_dict(data)\n",
    "\n",
    "    # RAGAS Evaluation\n",
    "    ragas_result = evaluate(\n",
    "        dataset,\n",
    "        metrics=[answer_relevancy, faithfulness, context_recall],\n",
    "    )\n",
    "\n",
    "    # ROUGE-L\n",
    "    scorer = rouge_scorer.RougeScorer(['rougeL'], use_stemmer=True)\n",
    "    rouge_scores = [\n",
    "        scorer.score(gt[0], p['result'])['rougeL'].fmeasure\n",
    "        for gt, p in zip(ground_truths[:n], predictions[:n])\n",
    "    ]\n",
    "\n",
    "    # BLEU\n",
    "    bleu_scores = [\n",
    "        sentence_bleu([gt[0].split()], p['result'].split())\n",
    "        for gt, p in zip(ground_truths[:n], predictions[:n])\n",
    "    ]\n",
    "\n",
    "    return {\n",
    "        \"RAGAS\": ragas_result,\n",
    "        \"Average ROUGE-L\": sum(rouge_scores) / n,\n",
    "        \"Average BLEU\": sum(bleu_scores) / n\n",
    "    }\n",
    "\n",
    "\n",
    "predictions = generate_predictions(qa_chain, queries, n=10)\n",
    "results = evaluate_rag_model(queries, predictions, truths, n=10)\n",
    "print(results)\n"
   ]
  },
  {
   "cell_type": "code",
   "execution_count": 27,
   "id": "fzpZ-1G8Qz1J",
   "metadata": {
    "colab": {
     "base_uri": "https://localhost:8080/",
     "height": 452
    },
    "id": "fzpZ-1G8Qz1J",
    "outputId": "e851aec4-d773-4494-f54b-a50b6a9c5fd2"
   },
   "outputs": [
    {
     "data": {
      "image/png": "[encoded data removed]",
      "text/plain": [
       "<Figure size 640x480 with 1 Axes>"
      ]
     },
     "metadata": {},
     "output_type": "display_data"
    }
   ],
   "source": [
    "#Visual summary of the RAGAS evaluation metrics.\n",
    "\n",
    "import matplotlib.pyplot as plt\n",
    "\n",
    "ragas_scores = {\n",
    "    \"Answer Relevancy\": 0.9355,\n",
    "    \"Faithfulness\": 0.7681,\n",
    "    \"Context Recall\": 0.4667\n",
    "}\n",
    "\n",
    "plt.bar(ragas_scores.keys(), ragas_scores.values(), color=['green', 'blue', 'orange'])\n",
    "plt.ylim(0, 1)\n",
    "plt.title('RAGAS Metric Scores')\n",
    "plt.ylabel('Score')\n",
    "plt.show()\n"
   ]
  },
  {
   "cell_type": "markdown",
   "id": "Omeb5vFSTbS0",
   "metadata": {
    "id": "Omeb5vFSTbS0"
   },
   "source": [
    "#### **3.1.3** <font color=red> [3 marks] </font>\n",
    "Draw inferences by evaluating answers to all questions."
   ]
  },
  {
   "cell_type": "markdown",
   "id": "ei2qIN71Tirg",
   "metadata": {
    "id": "ei2qIN71Tirg"
   },
   "source": [
    "To save time and computing power, you can just run the evaluation on first 100 questions."
   ]
  },
  {
   "cell_type": "markdown",
   "id": "5olBH1SZRCsI",
   "metadata": {
    "id": "5olBH1SZRCsI"
   },
   "source": [
    "Inference Summary (based on first 100 benchmark questions):\n",
    "\n",
    "**Answer Relevancy (~0.93):** Model understands questions and returns relevant answers.  \n",
    "- **Faithfulness (~0.76):** Answers are mostly grounded in retrieved context with minor hallucinations.  \n",
    "- **Context Recall (~0.47):** Retriever sometimes misses key portions. Tuning chunking/retrieval strategies may help.  \n",
    "- **ROUGE-L (~0.17)** and **BLEU (~0.006):** Low scores due to lexical variation — expected in legal QA due to formal language and paraphrasing.\n",
    "\n",
    "- Retriever performs well for short, extractive questions  \n",
    "- Long, indirect, or abstract queries reduce grounding quality  \n",
    "- BLEU warnings indicate **0 counts of 2–4 gram overlaps**  "
   ]
  },
  {
   "cell_type": "markdown",
   "id": "AXCiJkeUQ_o4",
   "metadata": {
    "id": "AXCiJkeUQ_o4"
   },
   "source": []
  },
  {
   "cell_type": "markdown",
   "id": "gonMO9wNE5dt",
   "metadata": {
    "id": "gonMO9wNE5dt"
   },
   "source": [
    "## **4. Conclusion** <font color=red> [5 marks] </font><br>"
   ]
  },
  {
   "cell_type": "markdown",
   "id": "ySHPR29rE5du",
   "metadata": {
    "id": "ySHPR29rE5du"
   },
   "source": [
    "### **4.1 Conclusions and insights** <font color=red> [5 marks] </font><br>"
   ]
  },
  {
   "cell_type": "markdown",
   "id": "KoVsmcV0E5du",
   "metadata": {
    "id": "KoVsmcV0E5du"
   },
   "source": [
    "#### **4.1.1** <font color=red> [5 marks] </font>\n",
    "Conclude with the results here. Include the insights gained about the data, model pipeline, the RAG process and the results obtained."
   ]
  },
  {
   "cell_type": "markdown",
   "id": "qsHGEtBQPFhP",
   "metadata": {
    "id": "qsHGEtBQPFhP"
   },
   "source": [
    "In this assignment, we built a complete Retrieval-Augmented Generation (RAG) system using the LangChain framework. The data pipeline includes recursive loading and cleaning of legal documents from various categories, followed by preprocessing, chunking, and embedding generation using OpenAI's `text-embedding-3-small` model.\n",
    "\n",
    "We used LangChain’s `Document` class, `RecursiveCharacterTextSplitter`, `OpenAIEmbeddings`, and FAISS vector store to create a searchable knowledge base. The retrieval and question-answering workflow was implemented using LangChain’s `RetrievalQA` chain with `ChatOpenAI` as the generator model.\n",
    "\n",
    "A benchmark dataset was used for evaluation, and performance was measured using **RAGAS**, **ROUGE-L**, and **BLEU** metrics. This demonstrates a complete and modular RAG architecture with proper use of LangChain components, model justification, and evaluation rigor.\n",
    "\n",
    "**Documents processed:** 698 legal documents  \n",
    "- **Average length:** ~8,975 tokens  \n",
    "- **Length range:** 142 to 84,946 tokens  \n",
    "- **Frequent terms:** 'company', 'agreement', 'shall' — confirming legal domain relevance\n",
    "\n",
    "- **Embeddings:** OpenAI's `text-embedding-3-small`  \n",
    "- **Chunking strategies tested:**\n",
    "  - `800 / 100` (chunk size / overlap): Higher semantic accuracy, more RAM usage  \n",
    "  - `512 / 100`: Better performance-memory balance  \n",
    "\n",
    "- First 10 documents: **High cosine similarity** (0.2–0.5)  \n",
    "- Random 10 documents: **Low similarity** (~0.02–0.1)  \n",
    "  ➤ Confirms high topic diversity across categories\n",
    "\n",
    "  - **RAGAS Answer Relevancy:** `0.9355`  \n",
    "- **RAGAS Faithfulness:** `0.7681`  \n",
    "- **RAGAS Context Recall:** `0.4667`  \n",
    "- **ROUGE-L:** `0.1708`  \n",
    "- **BLEU:** `0.0061`  \n"
   ]
  }
 ],
 "metadata": {
  "colab": {
   "collapsed_sections": [
    "ySHPR29rE5du"
   ],
   "provenance": []
  },
  "kernelspec": {
   "display_name": "Python book_project",
   "language": "python",
   "name": "myenv"
  },
  "language_info": {
   "codemirror_mode": {
    "name": "ipython",
    "version": 3
   },
   "file_extension": ".py",
   "mimetype": "text/x-python",
   "name": "python",
   "nbconvert_exporter": "python",
   "pygments_lexer": "ipython3",
   "version": "3.10.9"
  },
  "widgets": {
   "application/vnd.jupyter.widget-state+json": {
    "052c50eef35d490a980d6fd51d6a9eb1": {
     "model_module": "@jupyter-widgets/base",
     "model_module_version": "1.2.0",
     "model_name": "LayoutModel",
     "state": {
      "_model_module": "@jupyter-widgets/base",
      "_model_module_version": "1.2.0",
      "_model_name": "LayoutModel",
      "_view_count": null,
      "_view_module": "@jupyter-widgets/base",
      "_view_module_version": "1.2.0",
      "_view_name": "LayoutView",
      "align_content": null,
      "align_items": null,
      "align_self": null,
      "border": null,
      "bottom": null,
      "display": null,
      "flex": null,
      "flex_flow": null,
      "grid_area": null,
      "grid_auto_columns": null,
      "grid_auto_flow": null,
      "grid_auto_rows": null,
      "grid_column": null,
      "grid_gap": null,
      "grid_row": null,
      "grid_template_areas": null,
      "grid_template_columns": null,
      "grid_template_rows": null,
      "height": null,
      "justify_content": null,
      "justify_items": null,
      "left": null,
      "margin": null,
      "max_height": null,
      "max_width": null,
      "min_height": null,
      "min_width": null,
      "object_fit": null,
      "object_position": null,
      "order": null,
      "overflow": null,
      "overflow_x": null,
      "overflow_y": null,
      "padding": null,
      "right": null,
      "top": null,
      "visibility": null,
      "width": null
     }
    },
    "0b0e32cd1fbf47fa81bf4ade49a31eda": {
     "model_module": "@jupyter-widgets/controls",
     "model_module_version": "1.5.0",
     "model_name": "HTMLModel",
     "state": {
      "_dom_classes": [],
      "_model_module": "@jupyter-widgets/controls",
      "_model_module_version": "1.5.0",
      "_model_name": "HTMLModel",
      "_view_count": null,
      "_view_module": "@jupyter-widgets/controls",
      "_view_module_version": "1.5.0",
      "_view_name": "HTMLView",
      "description": "",
      "description_tooltip": null,
      "layout": "IPY_MODEL_492ad2c5c1ae4324a50027c175a5e133",
      "placeholder": "​",
      "style": "IPY_MODEL_f7216c5650ed407d9590247c80fd612e",
      "value": " 30/30 [00:12&lt;00:00,  2.32it/s]"
     }
    },
    "492ad2c5c1ae4324a50027c175a5e133": {
     "model_module": "@jupyter-widgets/base",
     "model_module_version": "1.2.0",
     "model_name": "LayoutModel",
     "state": {
      "_model_module": "@jupyter-widgets/base",
      "_model_module_version": "1.2.0",
      "_model_name": "LayoutModel",
      "_view_count": null,
      "_view_module": "@jupyter-widgets/base",
      "_view_module_version": "1.2.0",
      "_view_name": "LayoutView",
      "align_content": null,
      "align_items": null,
      "align_self": null,
      "border": null,
      "bottom": null,
      "display": null,
      "flex": null,
      "flex_flow": null,
      "grid_area": null,
      "grid_auto_columns": null,
      "grid_auto_flow": null,
      "grid_auto_rows": null,
      "grid_column": null,
      "grid_gap": null,
      "grid_row": null,
      "grid_template_areas": null,
      "grid_template_columns": null,
      "grid_template_rows": null,
      "height": null,
      "justify_content": null,
      "justify_items": null,
      "left": null,
      "margin": null,
      "max_height": null,
      "max_width": null,
      "min_height": null,
      "min_width": null,
      "object_fit": null,
      "object_position": null,
      "order": null,
      "overflow": null,
      "overflow_x": null,
      "overflow_y": null,
      "padding": null,
      "right": null,
      "top": null,
      "visibility": null,
      "width": null
     }
    },
    "910253cd0d664fe8bfa998cc171e9e5d": {
     "model_module": "@jupyter-widgets/controls",
     "model_module_version": "1.5.0",
     "model_name": "DescriptionStyleModel",
     "state": {
      "_model_module": "@jupyter-widgets/controls",
      "_model_module_version": "1.5.0",
      "_model_name": "DescriptionStyleModel",
      "_view_count": null,
      "_view_module": "@jupyter-widgets/base",
      "_view_module_version": "1.2.0",
      "_view_name": "StyleView",
      "description_width": ""
     }
    },
    "957a352f2fb44b36bd6653f18a3e7d1c": {
     "model_module": "@jupyter-widgets/base",
     "model_module_version": "1.2.0",
     "model_name": "LayoutModel",
     "state": {
      "_model_module": "@jupyter-widgets/base",
      "_model_module_version": "1.2.0",
      "_model_name": "LayoutModel",
      "_view_count": null,
      "_view_module": "@jupyter-widgets/base",
      "_view_module_version": "1.2.0",
      "_view_name": "LayoutView",
      "align_content": null,
      "align_items": null,
      "align_self": null,
      "border": null,
      "bottom": null,
      "display": null,
      "flex": null,
      "flex_flow": null,
      "grid_area": null,
      "grid_auto_columns": null,
      "grid_auto_flow": null,
      "grid_auto_rows": null,
      "grid_column": null,
      "grid_gap": null,
      "grid_row": null,
      "grid_template_areas": null,
      "grid_template_columns": null,
      "grid_template_rows": null,
      "height": null,
      "justify_content": null,
      "justify_items": null,
      "left": null,
      "margin": null,
      "max_height": null,
      "max_width": null,
      "min_height": null,
      "min_width": null,
      "object_fit": null,
      "object_position": null,
      "order": null,
      "overflow": null,
      "overflow_x": null,
      "overflow_y": null,
      "padding": null,
      "right": null,
      "top": null,
      "visibility": null,
      "width": null
     }
    },
    "9ceb39e61c474b6bb56a0e4a03e44dae": {
     "model_module": "@jupyter-widgets/controls",
     "model_module_version": "1.5.0",
     "model_name": "HTMLModel",
     "state": {
      "_dom_classes": [],
      "_model_module": "@jupyter-widgets/controls",
      "_model_module_version": "1.5.0",
      "_model_name": "HTMLModel",
      "_view_count": null,
      "_view_module": "@jupyter-widgets/controls",
      "_view_module_version": "1.5.0",
      "_view_name": "HTMLView",
      "description": "",
      "description_tooltip": null,
      "layout": "IPY_MODEL_052c50eef35d490a980d6fd51d6a9eb1",
      "placeholder": "​",
      "style": "IPY_MODEL_910253cd0d664fe8bfa998cc171e9e5d",
      "value": "Evaluating: 100%"
     }
    },
    "b822413c66de4a4a8419a45184450fbd": {
     "model_module": "@jupyter-widgets/base",
     "model_module_version": "1.2.0",
     "model_name": "LayoutModel",
     "state": {
      "_model_module": "@jupyter-widgets/base",
      "_model_module_version": "1.2.0",
      "_model_name": "LayoutModel",
      "_view_count": null,
      "_view_module": "@jupyter-widgets/base",
      "_view_module_version": "1.2.0",
      "_view_name": "LayoutView",
      "align_content": null,
      "align_items": null,
      "align_self": null,
      "border": null,
      "bottom": null,
      "display": null,
      "flex": null,
      "flex_flow": null,
      "grid_area": null,
      "grid_auto_columns": null,
      "grid_auto_flow": null,
      "grid_auto_rows": null,
      "grid_column": null,
      "grid_gap": null,
      "grid_row": null,
      "grid_template_areas": null,
      "grid_template_columns": null,
      "grid_template_rows": null,
      "height": null,
      "justify_content": null,
      "justify_items": null,
      "left": null,
      "margin": null,
      "max_height": null,
      "max_width": null,
      "min_height": null,
      "min_width": null,
      "object_fit": null,
      "object_position": null,
      "order": null,
      "overflow": null,
      "overflow_x": null,
      "overflow_y": null,
      "padding": null,
      "right": null,
      "top": null,
      "visibility": null,
      "width": null
     }
    },
    "b987974ec0ef49e0ae660f1f965b5f8a": {
     "model_module": "@jupyter-widgets/controls",
     "model_module_version": "1.5.0",
     "model_name": "ProgressStyleModel",
     "state": {
      "_model_module": "@jupyter-widgets/controls",
      "_model_module_version": "1.5.0",
      "_model_name": "ProgressStyleModel",
      "_view_count": null,
      "_view_module": "@jupyter-widgets/base",
      "_view_module_version": "1.2.0",
      "_view_name": "StyleView",
      "bar_color": null,
      "description_width": ""
     }
    },
    "b9ce09169cad450c86c3a1021328dafd": {
     "model_module": "@jupyter-widgets/controls",
     "model_module_version": "1.5.0",
     "model_name": "HBoxModel",
     "state": {
      "_dom_classes": [],
      "_model_module": "@jupyter-widgets/controls",
      "_model_module_version": "1.5.0",
      "_model_name": "HBoxModel",
      "_view_count": null,
      "_view_module": "@jupyter-widgets/controls",
      "_view_module_version": "1.5.0",
      "_view_name": "HBoxView",
      "box_style": "",
      "children": [
       "IPY_MODEL_9ceb39e61c474b6bb56a0e4a03e44dae",
       "IPY_MODEL_c11ba16ee06c4841b14473635e0ea47e",
       "IPY_MODEL_0b0e32cd1fbf47fa81bf4ade49a31eda"
      ],
      "layout": "IPY_MODEL_b822413c66de4a4a8419a45184450fbd"
     }
    },
    "c11ba16ee06c4841b14473635e0ea47e": {
     "model_module": "@jupyter-widgets/controls",
     "model_module_version": "1.5.0",
     "model_name": "FloatProgressModel",
     "state": {
      "_dom_classes": [],
      "_model_module": "@jupyter-widgets/controls",
      "_model_module_version": "1.5.0",
      "_model_name": "FloatProgressModel",
      "_view_count": null,
      "_view_module": "@jupyter-widgets/controls",
      "_view_module_version": "1.5.0",
      "_view_name": "ProgressView",
      "bar_style": "success",
      "description": "",
      "description_tooltip": null,
      "layout": "IPY_MODEL_957a352f2fb44b36bd6653f18a3e7d1c",
      "max": 30,
      "min": 0,
      "orientation": "horizontal",
      "style": "IPY_MODEL_b987974ec0ef49e0ae660f1f965b5f8a",
      "value": 30
     }
    },
    "f7216c5650ed407d9590247c80fd612e": {
     "model_module": "@jupyter-widgets/controls",
     "model_module_version": "1.5.0",
     "model_name": "DescriptionStyleModel",
     "state": {
      "_model_module": "@jupyter-widgets/controls",
      "_model_module_version": "1.5.0",
      "_model_name": "DescriptionStyleModel",
      "_view_count": null,
      "_view_module": "@jupyter-widgets/base",
      "_view_module_version": "1.2.0",
      "_view_name": "StyleView",
      "description_width": ""
     }
    }
   }
  }
 },
 "nbformat": 4,
 "nbformat_minor": 5
}
